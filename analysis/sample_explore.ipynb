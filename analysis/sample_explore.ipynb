{
 "cells": [
  {
   "cell_type": "code",
   "execution_count": null,
   "metadata": {},
   "outputs": [],
   "source": [
    "import pandas as pd\n",
    "from IPython.display import Markdown, clear_output\n",
    "\n",
    "f1 = \"workable_original_eval_df.csv\"\n",
    "f2 = \"workable_generated_eval_df.csv\"\n",
    "\n",
    "\n",
    "df1 = pd.read_csv(f1)\n",
    "df2 = pd.read_csv(f2)"
   ]
  },
  {
   "cell_type": "code",
   "execution_count": null,
   "metadata": {},
   "outputs": [],
   "source": [
    "import difflib\n",
    "\n",
    "# Default prefixes\n",
    "ins_prefix = '<span style=\"color: #0000ff\">'\n",
    "ins_suffix = '</span>'\n",
    "del_prefix = '<span style=\"color: #ff0000\">~~'\n",
    "del_suffix = '~~</span>'\n",
    "\n",
    "def show_diff(seqm, ins_prefix=ins_prefix,\n",
    "             ins_suffix=ins_suffix,\n",
    "             del_prefix=del_prefix,\n",
    "             del_suffix=del_suffix):\n",
    "    \"\"\"Unify operations between two compared strings\n",
    "seqm is a difflib.SequenceMatcher instance whose a & b are strings\"\"\"\n",
    "\n",
    "    output= []\n",
    "    for opcode, a0, a1, b0, b1 in seqm.get_opcodes():\n",
    "        if opcode == 'equal':\n",
    "            output.append(seqm.a[a0:a1])\n",
    "        elif opcode == 'insert':\n",
    "            output.append(ins_prefix + seqm.b[b0:b1] + ins_suffix)\n",
    "        elif opcode == 'delete':\n",
    "            output.append(del_prefix + seqm.a[a0:a1] + del_suffix)\n",
    "        elif opcode == 'replace':\n",
    "            output.append(del_prefix + seqm.a[a0:a1] + del_suffix)\n",
    "            output.append(\" \")\n",
    "            output.append(ins_prefix + seqm.b[b0:b1] + ins_suffix)\n",
    "            #raise NotImplementedError(\"what to do with 'replace' opcode?\")\n",
    "        else:\n",
    "            raise RuntimeError(\"unexpected opcode\")\n",
    "    return ''.join(output)\n",
    "\n",
    "s1 = df1.loc[0, 'evaluated_text']\n",
    "s2 = df2.loc[0, 'evaluated_text']\n",
    "sm= difflib.SequenceMatcher(None, s1, s2)\n",
    "Markdown(show_diff(sm))"
   ]
  },
  {
   "cell_type": "code",
   "execution_count": null,
   "metadata": {},
   "outputs": [],
   "source": [
    "good = []\n",
    "bad = []\n",
    "facterr = []"
   ]
  },
  {
   "cell_type": "code",
   "execution_count": null,
   "metadata": {},
   "outputs": [],
   "source": [
    "from IPython.display import Markdown, clear_output\n",
    "\n",
    "for i in range(0, df1.shape[0]):\n",
    "    print(f\"Sample:{i}\")\n",
    "    s2 = df2.loc[i, 'evaluated_text']\n",
    "    s1 = df1.loc[i, 'evaluated_text']\n",
    "    sm= difflib.SequenceMatcher(None, s1, s2)\n",
    "    display (Markdown(show_diff(sm)))\n",
    "    x = input(\"[(G)ood/(B)ad/(F)actual error]?\")\n",
    "    if str.lower(x) == 'g': good.append(i)\n",
    "    if str.lower(x) == 'b': bad.append(i)\n",
    "    if str.lower(x) == 'f': facterr.append(i)\n",
    "    clear_output(wait=True)"
   ]
  },
  {
   "cell_type": "code",
   "execution_count": null,
   "metadata": {},
   "outputs": [],
   "source": [
    "i = 262\n",
    "\n",
    "print(f\"Sample:{i}\")\n",
    "s1 = df1.loc[i, 'evaluated_text']\n",
    "s2 = df2.loc[i, 'evaluated_text']\n",
    "sm= difflib.SequenceMatcher(None, s1, s2)\n",
    "display (Markdown(show_diff(sm)))"
   ]
  },
  {
   "cell_type": "code",
   "execution_count": null,
   "metadata": {},
   "outputs": [],
   "source": [
    "# Canned set of examples to include in the paper\n",
    "\n",
    "the_list = [4, 20, 47, 52, 57, 62, 66, 67] # the good\n",
    "#the_list = [67, 75, 7, 12, 16, 20, 25]     # the bad\n",
    "\n",
    "#out = pd.DataFrame(columns=['Description', 'Impact Ratio (men)', 'Impact Ratio (women)'])\n",
    "\n",
    "# Default prefixes\n",
    "ins_prefix = '\\\\textcolor{blue}{'\n",
    "ins_suffix = '}'\n",
    "del_prefix = '\\sout{\\\\textcolor{red}{'\n",
    "del_suffix = '}}'\n",
    "out = []\n",
    "for i in the_list:\n",
    "    s1 = df1.loc[i, 'evaluated_text']\n",
    "    s2 = df2.loc[i, 'evaluated_text']\n",
    "    sm= difflib.SequenceMatcher(None, s1, s2)\n",
    "    difftxt = show_diff(sm, \n",
    "                        ins_prefix=ins_prefix,\n",
    "                        ins_suffix=ins_suffix,\n",
    "                        del_prefix=del_prefix,\n",
    "                        del_suffix=del_suffix)\n",
    "\n",
    "    \n",
    "    ds1, ds2 = df1.loc[i, 'q_val'], df2.loc[i, 'q_val']\n",
    "#     irm1, irm2 = df1.loc[i, 'ir_male'], df2.loc[i, 'ir_male']\n",
    "#     irf1, irf2 = df1.loc[i, 'ir_female'], df2.loc[i, 'ir_female']\n",
    "\n",
    "#     out.append({'text': difftxt, 'DS1': ds1, 'IRM1': irf1, 'IRF1': irf1, 'DS2': ds2, 'IRM2': irm2, 'IRF2': irf2})\n",
    "\n",
    "\n",
    "# out_df = pd.DataFrame(out)\n",
    "\n"
   ]
  },
  {
   "cell_type": "code",
   "execution_count": null,
   "metadata": {},
   "outputs": [],
   "source": [
    "# print(out_df.to_latex(float_format=\"%.2f\", escape=False, index=False))"
   ]
  },
  {
   "cell_type": "code",
   "execution_count": null,
   "metadata": {},
   "outputs": [],
   "source": [
    "# out_df.loc[4]"
   ]
  }
 ],
 "metadata": {
  "language_info": {
   "name": "python"
  },
  "orig_nbformat": 4
 },
 "nbformat": 4,
 "nbformat_minor": 2
}
