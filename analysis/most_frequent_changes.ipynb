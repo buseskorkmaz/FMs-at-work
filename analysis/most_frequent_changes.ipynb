{
 "cells": [
  {
   "cell_type": "code",
   "execution_count": null,
   "metadata": {},
   "outputs": [],
   "source": [
    "from datasets import load_from_disk\n",
    "import pandas as pd\n",
    "import numpy as np"
   ]
  },
  {
   "cell_type": "code",
   "execution_count": null,
   "metadata": {},
   "outputs": [],
   "source": [
    "original_eval_df =  pd.read_csv(\"/Users/busesibelkorkmaz/Desktop/Bias-ILQL/scripts/eval/hackernews/original_eval_df.csv\")\n",
    "generated_eval_df =  pd.read_csv(\"/Users/busesibelkorkmaz/Desktop/Bias-ILQL/scripts/eval/hackernews/generated_eval_df.csv\")\n",
    "generated_eval_df.shape"
   ]
  },
  {
   "cell_type": "code",
   "execution_count": null,
   "metadata": {},
   "outputs": [],
   "source": [
    "generated_eval_df = generated_eval_df[generated_eval_df.generated_text != \"nan\"]\n",
    "generated_eval_df.shape"
   ]
  },
  {
   "cell_type": "code",
   "execution_count": null,
   "metadata": {},
   "outputs": [],
   "source": [
    "original_eval_df['q_val'].mean(), generated_eval_df['q_val'].mean()"
   ]
  },
  {
   "cell_type": "code",
   "execution_count": null,
   "metadata": {},
   "outputs": [],
   "source": [
    "s1 = set(original_eval_df['prompt'].values)\n",
    "s2 = set(generated_eval_df['prompt'].values)\n",
    "\n",
    "s1 == s2"
   ]
  },
  {
   "cell_type": "code",
   "execution_count": null,
   "metadata": {},
   "outputs": [],
   "source": [
    "def tokenize_and_truncate(text, length=256):\n",
    "    try:\n",
    "        tokens = text.split()\n",
    "        return tokens[:length]\n",
    "    except:\n",
    "        return [''] * length\n",
    "        # print(text)\n",
    "    \n",
    "\n",
    "original_eval_df['tokens'] = original_eval_df['text'].apply(tokenize_and_truncate)\n",
    "generated_eval_df['tokens'] = generated_eval_df['generated_text'].apply(tokenize_and_truncate)\n"
   ]
  },
  {
   "cell_type": "code",
   "execution_count": null,
   "metadata": {},
   "outputs": [],
   "source": [
    "import difflib\n",
    "\n",
    "def compare_texts(tokens1, tokens2):\n",
    "    d = difflib.Differ()\n",
    "    diff = d.compare(tokens1, tokens2)\n",
    "    return list(diff)\n",
    "\n",
    "original_eval_df['diff'] = original_eval_df.apply(lambda row: compare_texts(row['tokens'], generated_eval_df.loc[row.name, 'tokens']), axis=1)\n"
   ]
  },
  {
   "cell_type": "code",
   "execution_count": null,
   "metadata": {},
   "outputs": [],
   "source": [
    "def extract_changes(diff):\n",
    "    changes = []\n",
    "    i = 0\n",
    "    while i < len(diff):\n",
    "        if diff[i][0] in ('-', '+'):\n",
    "            if i + 1 < len(diff) and diff[i + 1][0] == '+':\n",
    "                change_pair = (diff[i], diff[i + 1])\n",
    "                i += 2  # Skip the next item as it's part of the current change pair\n",
    "            else:\n",
    "                change_pair = (diff[i], None)\n",
    "                i += 1  # Only increment by 1 as there's no matching '+' change\n",
    "            changes.append(change_pair)\n",
    "        else:\n",
    "            i += 1\n",
    "    return changes\n",
    "\n",
    "# Now re-run the line that was causing the error\n",
    "change_pairs = original_eval_df['diff'].apply(extract_changes).explode().dropna()\n",
    "change_counts = change_pairs.value_counts()\n",
    "\n",
    "# Convert to DataFrame\n",
    "change_counts_df = change_counts.reset_index()\n",
    "change_counts_df.columns = ['Change Pair', 'Count']\n"
   ]
  },
  {
   "cell_type": "code",
   "execution_count": null,
   "metadata": {},
   "outputs": [],
   "source": [
    "change_counts_df.to_csv('changes.csv', index=False)"
   ]
  },
  {
   "cell_type": "code",
   "execution_count": null,
   "metadata": {},
   "outputs": [],
   "source": [
    "change_counts_df"
   ]
  },
  {
   "cell_type": "code",
   "execution_count": null,
   "metadata": {},
   "outputs": [],
   "source": [
    "def extract_changes(diff, index):\n",
    "    changes = []\n",
    "    i = 0\n",
    "    while i < len(diff):\n",
    "        if diff[i][0] in ('-', '+'):\n",
    "            if i + 1 < len(diff) and diff[i + 1][0] == '+':\n",
    "                change_pair = (diff[i], diff[i + 1], index)\n",
    "                i += 2  # Skip the next item as it's part of the current change pair\n",
    "            else:\n",
    "                change_pair = (diff[i], None, index)\n",
    "                i += 1  # Only increment by 1 as there's no matching '+' change\n",
    "            changes.append(change_pair)\n",
    "        else:\n",
    "            i += 1\n",
    "    return changes\n",
    "\n",
    "# Now re-run the line that was causing the error\n",
    "change_pairs = original_eval_df.apply(lambda row: extract_changes(row['diff'], row.name), axis=1).explode().dropna()\n",
    "\n",
    "# Convert to DataFrame\n",
    "change_pairs_df = pd.DataFrame(change_pairs.tolist(), columns=['Deletion', 'Addition', 'Row Index'])\n",
    "\n",
    "# Initialize an empty dictionary to hold the counts and row indices\n",
    "change_pair_counts = {}\n",
    "\n",
    "# Iterate through the rows of change_pairs_df\n",
    "for _, row in change_pairs_df.iterrows():\n",
    "    # Create a key for the change pair\n",
    "    change_pair_key = (row['Deletion'], row['Addition'])\n",
    "    \n",
    "    # If this change pair has been seen before, increment the count and append the row index\n",
    "    if change_pair_key in change_pair_counts:\n",
    "        change_pair_counts[change_pair_key]['Count'] += 1\n",
    "        change_pair_counts[change_pair_key]['Row Indices'].append(row['Row Index'])\n",
    "    # If this change pair has not been seen before, initialize the count and row index list\n",
    "    else:\n",
    "        change_pair_counts[change_pair_key] = {'Count': 1, 'Row Indices': [row['Row Index']]}\n",
    "\n",
    "# Convert the dictionary to a DataFrame\n",
    "paired_changes_df = pd.DataFrame.from_records([(key[0], key[1], value['Count'], value['Row Indices']) for key, value in change_pair_counts.items()], columns=['Deletion', 'Addition', 'Count', 'Row Indices'])\n",
    "\n",
    "# Display the paired changes DataFrame\n",
    "paired_changes_df\n"
   ]
  },
  {
   "cell_type": "code",
   "execution_count": null,
   "metadata": {},
   "outputs": [],
   "source": [
    "paired_changes_df.to_csv(\"paired_changes_df.csv\", index=False)"
   ]
  },
  {
   "cell_type": "code",
   "execution_count": null,
   "metadata": {},
   "outputs": [],
   "source": [
    "filtered_paired_changes_df = paired_changes_df[paired_changes_df['Deletion'].notnull() & paired_changes_df['Addition'].notnull()]\n",
    "filtered_paired_changes_df = filtered_paired_changes_df[\n",
    "    filtered_paired_changes_df.Deletion.str.contains(\"-\", na=False, regex=False) & \n",
    "    filtered_paired_changes_df.Addition.str.contains(\"+\", na=False, regex=False)\n",
    "]\n",
    "\n",
    "# Reset the index of the resulting DataFrame\n",
    "filtered_paired_changes_df.reset_index(drop=True, inplace=True)\n",
    "\n",
    "# Display the filtered paired changes DataFrame\n",
    "filtered_paired_changes_df.sort_values(by=\"Count\", ascending=True).head(50)"
   ]
  },
  {
   "cell_type": "code",
   "execution_count": null,
   "metadata": {},
   "outputs": [],
   "source": [
    "filtered_paired_changes_df.to_csv(\"paired_changes_df.csv\", index=False)"
   ]
  },
  {
   "cell_type": "code",
   "execution_count": null,
   "metadata": {},
   "outputs": [],
   "source": [
    "filtered_paired_changes_df"
   ]
  },
  {
   "cell_type": "code",
   "execution_count": null,
   "metadata": {},
   "outputs": [],
   "source": [
    "# Function to prepend a single quote to each text field\n",
    "def prepend_single_quote(text):\n",
    "    if isinstance(text, str):\n",
    "        return \"'\" + text\n",
    "    return text\n",
    "\n",
    "# Apply the function to each text field in the DataFrame\n",
    "filtered_paired_changes_df = filtered_paired_changes_df.applymap(prepend_single_quote)\n",
    "\n",
    "# Write the modified DataFrame to a CSV file\n",
    "filtered_paired_changes_df.to_csv('output.csv', index=False)\n"
   ]
  }
 ],
 "metadata": {
  "language_info": {
   "name": "python"
  },
  "orig_nbformat": 4
 },
 "nbformat": 4,
 "nbformat_minor": 2
}
