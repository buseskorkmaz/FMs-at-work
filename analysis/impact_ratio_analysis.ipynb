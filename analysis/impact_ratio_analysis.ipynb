{
 "cells": [
  {
   "cell_type": "code",
   "execution_count": null,
   "metadata": {},
   "outputs": [],
   "source": [
    "from datasets import load_from_disk\n",
    "import pandas as pd\n"
   ]
  },
  {
   "cell_type": "code",
   "execution_count": null,
   "metadata": {},
   "outputs": [],
   "source": [
    "original_eval =  load_from_disk(\"./../../../outputs/hackernews/impact_ratio_logs/first_original\")\n",
    "generated_eval =  load_from_disk(\"./../../../outputs/hackernews/impact_ratio_logs/first_fixed_generated\")"
   ]
  },
  {
   "cell_type": "code",
   "execution_count": null,
   "metadata": {},
   "outputs": [],
   "source": [
    "original_eval_df = original_eval.to_pandas()\n",
    "generated_eval_df = generated_eval.to_pandas()\n",
    "\n",
    "original_eval_df.to_csv(\"workable_original_eval_df.csv\", index=False)\n",
    "generated_eval_df.to_csv(\"workable_generated_eval_df.csv\", index=False)\n",
    "\n",
    "s1 = set(original_eval_df['prompt'].values)\n",
    "s2 = set(generated_eval_df['prompt'].values)\n",
    "\n",
    "s1 == s2"
   ]
  },
  {
   "cell_type": "code",
   "execution_count": null,
   "metadata": {},
   "outputs": [],
   "source": [
    "original_eval_df.shape, generated_eval_df.shape"
   ]
  },
  {
   "cell_type": "code",
   "execution_count": null,
   "metadata": {},
   "outputs": [],
   "source": [
    "original_eval_df['q_val'].mean(), generated_eval_df['q_val'].mean()"
   ]
  },
  {
   "cell_type": "code",
   "execution_count": null,
   "metadata": {},
   "outputs": [],
   "source": [
    "original_eval_df['q_val'].std(), generated_eval_df['q_val'].std()"
   ]
  },
  {
   "cell_type": "code",
   "execution_count": null,
   "metadata": {},
   "outputs": [],
   "source": [
    "# original_eval_df['ir_female'].mean() , generated_eval_df['ir_female'].mean()"
   ]
  },
  {
   "cell_type": "code",
   "execution_count": null,
   "metadata": {},
   "outputs": [],
   "source": [
    "# original_eval_df['ir_female'].std() , generated_eval_df['ir_female'].std()"
   ]
  },
  {
   "cell_type": "code",
   "execution_count": null,
   "metadata": {},
   "outputs": [],
   "source": [
    "# original_eval_df['ir_male'].mean() , generated_eval_df['ir_male'].mean()"
   ]
  },
  {
   "cell_type": "code",
   "execution_count": null,
   "metadata": {},
   "outputs": [],
   "source": [
    "# original_eval_df['ir_male'].std() , generated_eval_df['ir_male'].std()"
   ]
  },
  {
   "cell_type": "code",
   "execution_count": null,
   "metadata": {},
   "outputs": [],
   "source": [
    "original_eval_df['ir_na'].mean(), generated_eval_df['ir_na'].mean()"
   ]
  },
  {
   "cell_type": "code",
   "execution_count": null,
   "metadata": {},
   "outputs": [],
   "source": [
    "original_eval_df['ir_na'].std(), generated_eval_df['ir_na'].std()"
   ]
  },
  {
   "cell_type": "code",
   "execution_count": null,
   "metadata": {},
   "outputs": [],
   "source": [
    "original_eval_df['ir_eu'].mean() , generated_eval_df['ir_eu'].mean()"
   ]
  },
  {
   "cell_type": "code",
   "execution_count": null,
   "metadata": {},
   "outputs": [],
   "source": [
    "original_eval_df['ir_eu'].std() , generated_eval_df['ir_eu'].std()"
   ]
  },
  {
   "cell_type": "code",
   "execution_count": null,
   "metadata": {},
   "outputs": [],
   "source": [
    "original_eval_df['ir_africa'].mean(), generated_eval_df['ir_africa'].mean()"
   ]
  },
  {
   "cell_type": "code",
   "execution_count": null,
   "metadata": {},
   "outputs": [],
   "source": [
    "original_eval_df['ir_africa'].std(), generated_eval_df['ir_africa'].std()"
   ]
  },
  {
   "cell_type": "code",
   "execution_count": null,
   "metadata": {},
   "outputs": [],
   "source": [
    "original_eval_df['ir_asia'].mean() , generated_eval_df['ir_asia'].mean()"
   ]
  },
  {
   "cell_type": "code",
   "execution_count": null,
   "metadata": {},
   "outputs": [],
   "source": [
    "original_eval_df['ir_asia'].std() , generated_eval_df['ir_asia'].std()"
   ]
  },
  {
   "cell_type": "code",
   "execution_count": null,
   "metadata": {},
   "outputs": [],
   "source": [
    "original_eval_df['ir_sa'].mean() , generated_eval_df['ir_sa'].mean()"
   ]
  },
  {
   "cell_type": "code",
   "execution_count": null,
   "metadata": {},
   "outputs": [],
   "source": [
    "original_eval_df['ir_sa'].std() , generated_eval_df['ir_sa'].std()"
   ]
  },
  {
   "cell_type": "code",
   "execution_count": null,
   "metadata": {},
   "outputs": [],
   "source": [
    "original_eval_df['ir_oceania'].mean(), generated_eval_df['ir_oceania'].mean()"
   ]
  },
  {
   "cell_type": "code",
   "execution_count": null,
   "metadata": {},
   "outputs": [],
   "source": [
    "original_eval_df['ir_oceania'].std() , generated_eval_df['ir_oceania'].std()"
   ]
  },
  {
   "cell_type": "code",
   "execution_count": null,
   "metadata": {},
   "outputs": [],
   "source": [
    "filtered_df = generated_eval_df[abs(generated_eval_df['evaluated_text'].str.len() - generated_eval_df['evaluated_text'].str.len()) < 8]\n",
    "generated_eval_df[\"diff_q_df\"] = generated_eval_df['q_val'] - original_eval_df['q_val']\n",
    "sorted_df = generated_eval_df.sort_values(by=[\"diff_q_df\"], ascending=False)\n",
    "sorted_df.head(50)"
   ]
  }
 ],
 "metadata": {
  "language_info": {
   "name": "python"
  },
  "orig_nbformat": 4
 },
 "nbformat": 4,
 "nbformat_minor": 2
}
