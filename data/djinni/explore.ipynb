{
 "cells": [
  {
   "cell_type": "code",
   "execution_count": null,
   "metadata": {},
   "outputs": [],
   "source": [
    "from datasets import load_dataset\n",
    "\n",
    "load_dataset(lang-uk/recruitment-dataset-candidate-profiles-english)"
   ]
  }
 ],
 "metadata": {
  "kernelspec": {
   "display_name": "fms_at_work",
   "language": "python",
   "name": "python3"
  },
  "language_info": {
   "name": "python",
   "version": "3.10.0"
  }
 },
 "nbformat": 4,
 "nbformat_minor": 2
}
